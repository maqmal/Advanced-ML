{
  "nbformat": 4,
  "nbformat_minor": 0,
  "metadata": {
    "colab": {
      "name": "eksperimen_tpot.ipynb",
      "provenance": []
    },
    "kernelspec": {
      "name": "python3",
      "display_name": "Python 3"
    },
    "language_info": {
      "name": "python"
    }
  },
  "cells": [
    {
      "cell_type": "markdown",
      "metadata": {
        "id": "XFyngtPF2toS"
      },
      "source": [
        "#Tpot Eksperimen"
      ]
    },
    {
      "cell_type": "code",
      "metadata": {
        "id": "CoNu-RSC6PMm"
      },
      "source": [
        "!pip install TPOT"
      ],
      "execution_count": null,
      "outputs": []
    },
    {
      "cell_type": "code",
      "metadata": {
        "id": "MQwGHN2IWqhp"
      },
      "source": [
        "import pandas as pd\n",
        "from sklearn.model_selection import train_test_split \n",
        "df = pd.read_csv(\"/content/weatherAUS_clean.csv\")\n",
        "y = df[\"RainTomorrow\"] # y merupakan label\n",
        "X = df.drop(\"RainTomorrow\", axis=1) # X merupakan feature-feature data (tidak termasuk label)\n",
        "\n",
        "# Memisah dataset menjadi 60% data train dan 40% data test\n",
        "X_train, X_test, y_train, y_test = train_test_split(X, y, test_size = 0.4)"
      ],
      "execution_count": 19,
      "outputs": []
    },
    {
      "cell_type": "code",
      "metadata": {
        "colab": {
          "base_uri": "https://localhost:8080/"
        },
        "id": "2rLwulWC1dMY",
        "outputId": "466521c1-8bcf-4c84-a499-7ccb18c6b3b3"
      },
      "source": [
        "from tpot import TPOTClassifier, TPOTRegressor\n",
        "\n",
        "# Generasi berjumlah 10 dan ukuran populasi berjumlah 10\n",
        "tpot = TPOTClassifier(generations=10, population_size=10)\n",
        "tpot.fit(X_train, y_train)"
      ],
      "execution_count": 20,
      "outputs": [
        {
          "output_type": "execute_result",
          "data": {
            "text/plain": [
              "TPOTClassifier(config_dict=None, crossover_rate=0.1, cv=5,\n",
              "               disable_update_check=False, early_stop=None, generations=10,\n",
              "               log_file=None, max_eval_time_mins=5, max_time_mins=None,\n",
              "               memory=None, mutation_rate=0.9, n_jobs=1, offspring_size=None,\n",
              "               periodic_checkpoint_folder=None, population_size=10,\n",
              "               random_state=None, scoring=None, subsample=1.0, template=None,\n",
              "               use_dask=False, verbosity=0, warm_start=False)"
            ]
          },
          "metadata": {
            "tags": []
          },
          "execution_count": 20
        }
      ]
    },
    {
      "cell_type": "code",
      "metadata": {
        "colab": {
          "base_uri": "https://localhost:8080/"
        },
        "id": "El5kp260WKco",
        "outputId": "82999403-2ee6-4e05-8dc4-7fbb23b26c68"
      },
      "source": [
        "print(\"Accuracy is {}%\".format(round(tpot.score(X_test, y_test), 2)*100))"
      ],
      "execution_count": 21,
      "outputs": [
        {
          "output_type": "stream",
          "text": [
            "Accuracy is 91.0%\n"
          ],
          "name": "stdout"
        }
      ]
    },
    {
      "cell_type": "code",
      "metadata": {
        "colab": {
          "base_uri": "https://localhost:8080/"
        },
        "id": "3AhC1WrZW8G6",
        "outputId": "ffab114c-4ca3-4c54-aa69-74fd81c893d3"
      },
      "source": [
        "tpot.export('weather_aus_tpot.py')\n",
        "!cat weather_aus_tpot.py"
      ],
      "execution_count": 22,
      "outputs": [
        {
          "output_type": "stream",
          "text": [
            "import numpy as np\n",
            "import pandas as pd\n",
            "from sklearn.ensemble import GradientBoostingClassifier\n",
            "from sklearn.model_selection import train_test_split\n",
            "\n",
            "# NOTE: Make sure that the outcome column is labeled 'target' in the data file\n",
            "tpot_data = pd.read_csv('PATH/TO/DATA/FILE', sep='COLUMN_SEPARATOR', dtype=np.float64)\n",
            "features = tpot_data.drop('target', axis=1)\n",
            "training_features, testing_features, training_target, testing_target = \\\n",
            "            train_test_split(features, tpot_data['target'], random_state=None)\n",
            "\n",
            "# Average CV score on the training set was: 0.9090954522738631\n",
            "exported_pipeline = GradientBoostingClassifier(learning_rate=0.1, max_depth=8, max_features=0.1, min_samples_leaf=5, min_samples_split=19, n_estimators=100, subsample=0.45)\n",
            "\n",
            "exported_pipeline.fit(training_features, training_target)\n",
            "results = exported_pipeline.predict(testing_features)\n"
          ],
          "name": "stdout"
        }
      ]
    },
    {
      "cell_type": "code",
      "metadata": {
        "id": "Gcnk9SFWXC_N"
      },
      "source": [
        ""
      ],
      "execution_count": 22,
      "outputs": []
    }
  ]
}