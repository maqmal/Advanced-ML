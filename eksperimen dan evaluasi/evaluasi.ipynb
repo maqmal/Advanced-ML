{
  "nbformat": 4,
  "nbformat_minor": 0,
  "metadata": {
    "colab": {
      "name": "Evaluasi.ipynb",
      "provenance": []
    },
    "kernelspec": {
      "name": "python3",
      "display_name": "Python 3"
    },
    "language_info": {
      "name": "python"
    }
  },
  "cells": [
    {
      "cell_type": "code",
      "metadata": {
        "id": "0POXtJgI_xoT"
      },
      "source": [
        "from sklearn.ensemble import GradientBoostingClassifier\n",
        "from xgboost import XGBClassifier\n",
        "from sklearn.metrics import roc_auc_score\n",
        "from sklearn.metrics import accuracy_score\n",
        "from sklearn.metrics import precision_score\n",
        "from sklearn.metrics import recall_score\n",
        "from sklearn.metrics import make_scorer"
      ],
      "execution_count": 14,
      "outputs": []
    },
    {
      "cell_type": "code",
      "metadata": {
        "id": "dzX3TE_n_5oi"
      },
      "source": [
        "import pandas as pd\n",
        "from sklearn.model_selection import train_test_split \n",
        "df = pd.read_csv(\"weatherAUS_clean.csv\")\n",
        "y = df[\"RainTomorrow\"] # y merupakan label\n",
        "X = df.drop(\"RainTomorrow\", axis=1) # X merupakan feature-feature data (tidak termasuk label)\n",
        "\n",
        "# Memisah dataset menjadi 60% data train dan 40% data test\n",
        "X_train, X_test, y_train, y_test = train_test_split(X, y, test_size = 0.4)"
      ],
      "execution_count": 15,
      "outputs": []
    },
    {
      "cell_type": "code",
      "metadata": {
        "id": "vBblmDTF__tJ"
      },
      "source": [
        "scoring = {'accuracy': make_scorer(accuracy_score),\n",
        "           'precision': make_scorer(precision_score),\n",
        "           'recall':make_scorer(recall_score),\n",
        "           'ROC AUC':make_scorer(roc_auc_score)}\n",
        "\n",
        "model_1 = XGBClassifier(learning_rate=1.0, max_depth=4, min_child_weight=17, n_estimators=100, n_jobs=1, subsample=0.8500000000000001, verbosity=0)\n",
        "model_2 = GradientBoostingClassifier(learning_rate=0.1, max_depth=8, max_features=0.1, min_samples_leaf=5, min_samples_split=19, n_estimators=100, subsample=0.45)\n",
        "\n",
        "model_1.fit(X_train, y_train)\n",
        "model_2.fit(X_train, y_train)\n",
        "\n",
        "y_pred_1 = model_1.predict(X_test)\n",
        "y_pred_2 = model_2.predict(X_test)"
      ],
      "execution_count": 22,
      "outputs": []
    },
    {
      "cell_type": "code",
      "metadata": {
        "id": "CuPSYPVvAh6f",
        "colab": {
          "base_uri": "https://localhost:8080/"
        },
        "outputId": "4a92c128-25d9-44ae-a31b-8e00840bbefb"
      },
      "source": [
        "# XGBoost\n",
        "print(accuracy_score(y_test, y_pred_1))\n",
        "print(precision_score(y_test, y_pred_1))\n",
        "print(recall_score(y_test, y_pred_1)) \n",
        "print(roc_auc_score(y_test, y_pred_1)) "
      ],
      "execution_count": 23,
      "outputs": [
        {
          "output_type": "stream",
          "text": [
            "0.8988005997001499\n",
            "0.918141592920354\n",
            "0.8747365251430292\n",
            "0.8987000033896693\n"
          ],
          "name": "stdout"
        }
      ]
    },
    {
      "cell_type": "code",
      "metadata": {
        "colab": {
          "base_uri": "https://localhost:8080/"
        },
        "id": "co3WNNcUFEYe",
        "outputId": "5fb9d2d9-841e-43f9-8bde-d886be88d957"
      },
      "source": [
        "# Gradient Search\n",
        "print(accuracy_score(y_test, y_pred_2))\n",
        "print(precision_score(y_test, y_pred_2))\n",
        "print(recall_score(y_test, y_pred_2)) \n",
        "print(roc_auc_score(y_test, y_pred_2)) "
      ],
      "execution_count": 25,
      "outputs": [
        {
          "output_type": "stream",
          "text": [
            "0.9093703148425787\n",
            "0.9462789551503203\n",
            "0.8672086720867209\n",
            "0.9091940643204581\n"
          ],
          "name": "stdout"
        }
      ]
    },
    {
      "cell_type": "code",
      "metadata": {
        "colab": {
          "base_uri": "https://localhost:8080/",
          "height": 279
        },
        "id": "is6VX8F2FbQb",
        "outputId": "88629f86-8406-430c-f199-4442f4ab1433"
      },
      "source": [
        "# XGBoost\n",
        "from sklearn.metrics import plot_roc_curve\n",
        "import matplotlib.pyplot as plt  \n",
        "plot_roc_curve(model_1, X_test, y_test)  \n",
        "plt.show()"
      ],
      "execution_count": 26,
      "outputs": [
        {
          "output_type": "display_data",
          "data": {
            "image/png": "[encoded data removed]",
            "text/plain": [
              "<Figure size 432x288 with 1 Axes>"
            ]
          },
          "metadata": {
            "tags": [],
            "needs_background": "light"
          }
        }
      ]
    },
    {
      "cell_type": "code",
      "metadata": {
        "colab": {
          "base_uri": "https://localhost:8080/",
          "height": 279
        },
        "id": "IQ7bPrZCGs7h",
        "outputId": "99166686-7556-4b88-fc3a-082129c5847c"
      },
      "source": [
        "# Gradient Search\n",
        "from sklearn.metrics import plot_roc_curve\n",
        "import matplotlib.pyplot as plt  \n",
        "plot_roc_curve(model_2, X_test, y_test)  \n",
        "plt.show()"
      ],
      "execution_count": 27,
      "outputs": [
        {
          "output_type": "display_data",
          "data": {
            "image/png": "[encoded data removed]",
            "text/plain": [
              "<Figure size 432x288 with 1 Axes>"
            ]
          },
          "metadata": {
            "tags": [],
            "needs_background": "light"
          }
        }
      ]
    },
    {
      "cell_type": "code",
      "metadata": {
        "id": "bhjlN6p7G7lv"
      },
      "source": [
        ""
      ],
      "execution_count": null,
      "outputs": []
    }
  ]
}