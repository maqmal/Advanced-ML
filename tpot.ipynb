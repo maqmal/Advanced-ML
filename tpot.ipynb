{
  "nbformat": 4,
  "nbformat_minor": 0,
  "metadata": {
    "colab": {
      "name": "ML_LANJUT.ipynb",
      "provenance": [],
      "collapsed_sections": []
    },
    "kernelspec": {
      "name": "python3",
      "display_name": "Python 3"
    },
    "language_info": {
      "name": "python"
    }
  },
  "cells": [
    {
      "cell_type": "markdown",
      "metadata": {
        "id": "W261FTz7-E60"
      },
      "source": [
        "#Automated ML mengugnakan TPOT"
      ]
    },
    {
      "cell_type": "markdown",
      "metadata": {
        "id": "w60xpD2l-IJb"
      },
      "source": [
        "###Import library dan dataset\n",
        "Dataset yang digunakan adalah Weather AUS. Pada task ini dilakukan prediksi untuk menentukan apakah besok akan turun hujan atau tidak. Label data adalah RainTomorrow."
      ]
    },
    {
      "cell_type": "code",
      "metadata": {
        "id": "I2VUYfy1BXwp"
      },
      "source": [
        "# Import library\n",
        "import datetime as dt\n",
        "import pandas as pd\n",
        "import matplotlib.pyplot as plt\n",
        "import numpy as np\n",
        "from sklearn.preprocessing import MinMaxScaler\n",
        "import seaborn as sn"
      ],
      "execution_count": 2,
      "outputs": []
    },
    {
      "cell_type": "code",
      "metadata": {
        "colab": {
          "base_uri": "https://localhost:8080/",
          "height": 308
        },
        "id": "UsW34RflDbcY",
        "outputId": "25156953-1de3-438c-938b-bfcbab801888"
      },
      "source": [
        "# Ambil data csv dan tampilkan 5 teratas\n",
        "df = pd.read_csv('weatherAUS.csv')\n",
        "df.head()"
      ],
      "execution_count": 3,
      "outputs": [
        {
          "output_type": "execute_result",
          "data": {
            "text/html": [
              "<div>\n",
              "<style scoped>\n",
              "    .dataframe tbody tr th:only-of-type {\n",
              "        vertical-align: middle;\n",
              "    }\n",
              "\n",
              "    .dataframe tbody tr th {\n",
              "        vertical-align: top;\n",
              "    }\n",
              "\n",
              "    .dataframe thead th {\n",
              "        text-align: right;\n",
              "    }\n",
              "</style>\n",
              "<table border=\"1\" class=\"dataframe\">\n",
              "  <thead>\n",
              "    <tr style=\"text-align: right;\">\n",
              "      <th></th>\n",
              "      <th>Date</th>\n",
              "      <th>Location</th>\n",
              "      <th>MinTemp</th>\n",
              "      <th>MaxTemp</th>\n",
              "      <th>Rainfall</th>\n",
              "      <th>Evaporation</th>\n",
              "      <th>Sunshine</th>\n",
              "      <th>WindGustDir</th>\n",
              "      <th>WindGustSpeed</th>\n",
              "      <th>WindDir9am</th>\n",
              "      <th>WindDir3pm</th>\n",
              "      <th>WindSpeed9am</th>\n",
              "      <th>WindSpeed3pm</th>\n",
              "      <th>Humidity9am</th>\n",
              "      <th>Humidity3pm</th>\n",
              "      <th>Pressure9am</th>\n",
              "      <th>Pressure3pm</th>\n",
              "      <th>Cloud9am</th>\n",
              "      <th>Cloud3pm</th>\n",
              "      <th>Temp9am</th>\n",
              "      <th>Temp3pm</th>\n",
              "      <th>RainToday</th>\n",
              "      <th>RainTomorrow</th>\n",
              "    </tr>\n",
              "  </thead>\n",
              "  <tbody>\n",
              "    <tr>\n",
              "      <th>0</th>\n",
              "      <td>2008-12-01</td>\n",
              "      <td>Albury</td>\n",
              "      <td>13.4</td>\n",
              "      <td>22.9</td>\n",
              "      <td>0.6</td>\n",
              "      <td>NaN</td>\n",
              "      <td>NaN</td>\n",
              "      <td>W</td>\n",
              "      <td>44.0</td>\n",
              "      <td>W</td>\n",
              "      <td>WNW</td>\n",
              "      <td>20.0</td>\n",
              "      <td>24.0</td>\n",
              "      <td>71.0</td>\n",
              "      <td>22.0</td>\n",
              "      <td>1007.7</td>\n",
              "      <td>1007.1</td>\n",
              "      <td>8.0</td>\n",
              "      <td>NaN</td>\n",
              "      <td>16.9</td>\n",
              "      <td>21.8</td>\n",
              "      <td>No</td>\n",
              "      <td>No</td>\n",
              "    </tr>\n",
              "    <tr>\n",
              "      <th>1</th>\n",
              "      <td>2008-12-02</td>\n",
              "      <td>Albury</td>\n",
              "      <td>7.4</td>\n",
              "      <td>25.1</td>\n",
              "      <td>0.0</td>\n",
              "      <td>NaN</td>\n",
              "      <td>NaN</td>\n",
              "      <td>WNW</td>\n",
              "      <td>44.0</td>\n",
              "      <td>NNW</td>\n",
              "      <td>WSW</td>\n",
              "      <td>4.0</td>\n",
              "      <td>22.0</td>\n",
              "      <td>44.0</td>\n",
              "      <td>25.0</td>\n",
              "      <td>1010.6</td>\n",
              "      <td>1007.8</td>\n",
              "      <td>NaN</td>\n",
              "      <td>NaN</td>\n",
              "      <td>17.2</td>\n",
              "      <td>24.3</td>\n",
              "      <td>No</td>\n",
              "      <td>No</td>\n",
              "    </tr>\n",
              "    <tr>\n",
              "      <th>2</th>\n",
              "      <td>2008-12-03</td>\n",
              "      <td>Albury</td>\n",
              "      <td>12.9</td>\n",
              "      <td>25.7</td>\n",
              "      <td>0.0</td>\n",
              "      <td>NaN</td>\n",
              "      <td>NaN</td>\n",
              "      <td>WSW</td>\n",
              "      <td>46.0</td>\n",
              "      <td>W</td>\n",
              "      <td>WSW</td>\n",
              "      <td>19.0</td>\n",
              "      <td>26.0</td>\n",
              "      <td>38.0</td>\n",
              "      <td>30.0</td>\n",
              "      <td>1007.6</td>\n",
              "      <td>1008.7</td>\n",
              "      <td>NaN</td>\n",
              "      <td>2.0</td>\n",
              "      <td>21.0</td>\n",
              "      <td>23.2</td>\n",
              "      <td>No</td>\n",
              "      <td>No</td>\n",
              "    </tr>\n",
              "    <tr>\n",
              "      <th>3</th>\n",
              "      <td>2008-12-04</td>\n",
              "      <td>Albury</td>\n",
              "      <td>9.2</td>\n",
              "      <td>28.0</td>\n",
              "      <td>0.0</td>\n",
              "      <td>NaN</td>\n",
              "      <td>NaN</td>\n",
              "      <td>NE</td>\n",
              "      <td>24.0</td>\n",
              "      <td>SE</td>\n",
              "      <td>E</td>\n",
              "      <td>11.0</td>\n",
              "      <td>9.0</td>\n",
              "      <td>45.0</td>\n",
              "      <td>16.0</td>\n",
              "      <td>1017.6</td>\n",
              "      <td>1012.8</td>\n",
              "      <td>NaN</td>\n",
              "      <td>NaN</td>\n",
              "      <td>18.1</td>\n",
              "      <td>26.5</td>\n",
              "      <td>No</td>\n",
              "      <td>No</td>\n",
              "    </tr>\n",
              "    <tr>\n",
              "      <th>4</th>\n",
              "      <td>2008-12-05</td>\n",
              "      <td>Albury</td>\n",
              "      <td>17.5</td>\n",
              "      <td>32.3</td>\n",
              "      <td>1.0</td>\n",
              "      <td>NaN</td>\n",
              "      <td>NaN</td>\n",
              "      <td>W</td>\n",
              "      <td>41.0</td>\n",
              "      <td>ENE</td>\n",
              "      <td>NW</td>\n",
              "      <td>7.0</td>\n",
              "      <td>20.0</td>\n",
              "      <td>82.0</td>\n",
              "      <td>33.0</td>\n",
              "      <td>1010.8</td>\n",
              "      <td>1006.0</td>\n",
              "      <td>7.0</td>\n",
              "      <td>8.0</td>\n",
              "      <td>17.8</td>\n",
              "      <td>29.7</td>\n",
              "      <td>No</td>\n",
              "      <td>No</td>\n",
              "    </tr>\n",
              "  </tbody>\n",
              "</table>\n",
              "</div>"
            ],
            "text/plain": [
              "         Date Location  MinTemp  ...  Temp3pm  RainToday  RainTomorrow\n",
              "0  2008-12-01   Albury     13.4  ...     21.8         No            No\n",
              "1  2008-12-02   Albury      7.4  ...     24.3         No            No\n",
              "2  2008-12-03   Albury     12.9  ...     23.2         No            No\n",
              "3  2008-12-04   Albury      9.2  ...     26.5         No            No\n",
              "4  2008-12-05   Albury     17.5  ...     29.7         No            No\n",
              "\n",
              "[5 rows x 23 columns]"
            ]
          },
          "metadata": {
            "tags": []
          },
          "execution_count": 3
        }
      ]
    },
    {
      "cell_type": "code",
      "metadata": {
        "colab": {
          "base_uri": "https://localhost:8080/"
        },
        "id": "tjhn6QMt-8Hy",
        "outputId": "d0f682d9-26d4-4d7a-91e2-a5b856db8b71"
      },
      "source": [
        "# Print jumlah data dan kolom\n",
        "print(\"Jumlah data  = \", df.shape[0])\n",
        "print(\"Jumlah kolom = \", df.shape[1])"
      ],
      "execution_count": 4,
      "outputs": [
        {
          "output_type": "stream",
          "text": [
            "Jumlah data  =  145460\n",
            "Jumlah kolom =  23\n"
          ],
          "name": "stdout"
        }
      ]
    },
    {
      "cell_type": "markdown",
      "metadata": {
        "id": "GSLoJB4e89k8"
      },
      "source": [
        "#Preprocessing Data"
      ]
    },
    {
      "cell_type": "markdown",
      "metadata": {
        "id": "BG6u2ZbiK6za"
      },
      "source": [
        "###Arah Angin\n",
        "Data arah angin perlu dirubah menjadi derajatnya."
      ]
    },
    {
      "cell_type": "markdown",
      "metadata": {
        "id": "XBrMFs7oLe9K"
      },
      "source": [
        "![image.png](data:image/png;base64,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)"
      ]
    },
    {
      "cell_type": "code",
      "metadata": {
        "id": "e5rahC8TK6VT"
      },
      "source": [
        "# Inisialisasi arah angin\n",
        "arah_angin = {'N' : 0, 'NNE' : 22.5, 'NE': 45, 'ENE' : 67.5,\n",
        "             'E' : 90, 'ESE' : 112.5, 'SE' : 135, 'SSE' : 157.5,\n",
        "             'S' : 180, 'SSW' : 202.5, 'SW' : 225, 'WSW' : 247.5,\n",
        "             'W' : 270, 'WNW' : 292.5, 'NW' : 315, 'NNW' : 337.5}"
      ],
      "execution_count": 5,
      "outputs": []
    },
    {
      "cell_type": "code",
      "metadata": {
        "id": "uvVTPM3QLx8l"
      },
      "source": [
        "df['WindGustDir'].replace(arah_angin, inplace=True)\n",
        "df['WindDir9am'].replace(arah_angin, inplace=True)\n",
        "df['WindDir3pm'].replace(arah_angin, inplace=True)"
      ],
      "execution_count": 6,
      "outputs": []
    },
    {
      "cell_type": "markdown",
      "metadata": {
        "id": "lQ-WEr9lCNkO"
      },
      "source": [
        "###Handling Missing Value\n",
        "Beberapa feature memiliki banyak missing value sehingga perlu melakukan drop pada baris atau kolom. Jika missing value tidak terlalu banyak, nilai yang kosong tersebut bisa diisi dengan perhitungan interpolate, mean atau median nya."
      ]
    },
    {
      "cell_type": "code",
      "metadata": {
        "id": "2jzlWyZ7_7Hl"
      },
      "source": [
        "# Cari missing value\n",
        "percent_missing = df.isnull().sum() * 100 / len(df)\n",
        "data = {'column_name': df.columns, 'percent_missing': round(percent_missing, 2)}\n",
        "missing_value_df = pd.DataFrame(data)"
      ],
      "execution_count": 7,
      "outputs": []
    },
    {
      "cell_type": "code",
      "metadata": {
        "colab": {
          "base_uri": "https://localhost:8080/",
          "height": 759
        },
        "id": "35Y0gRP3ALe9",
        "outputId": "4c7746bb-b6af-4c19-8016-d1679c980848"
      },
      "source": [
        "# Sort misisng value dan tampilkan persentase missing value\n",
        "missing_value_df.sort_values('percent_missing', inplace=True)\n",
        "missing_value_df.reset_index(drop=True, inplace=True)\n",
        "missing_value_df"
      ],
      "execution_count": 8,
      "outputs": [
        {
          "output_type": "execute_result",
          "data": {
            "text/html": [
              "<div>\n",
              "<style scoped>\n",
              "    .dataframe tbody tr th:only-of-type {\n",
              "        vertical-align: middle;\n",
              "    }\n",
              "\n",
              "    .dataframe tbody tr th {\n",
              "        vertical-align: top;\n",
              "    }\n",
              "\n",
              "    .dataframe thead th {\n",
              "        text-align: right;\n",
              "    }\n",
              "</style>\n",
              "<table border=\"1\" class=\"dataframe\">\n",
              "  <thead>\n",
              "    <tr style=\"text-align: right;\">\n",
              "      <th></th>\n",
              "      <th>column_name</th>\n",
              "      <th>percent_missing</th>\n",
              "    </tr>\n",
              "  </thead>\n",
              "  <tbody>\n",
              "    <tr>\n",
              "      <th>0</th>\n",
              "      <td>Date</td>\n",
              "      <td>0.00</td>\n",
              "    </tr>\n",
              "    <tr>\n",
              "      <th>1</th>\n",
              "      <td>Location</td>\n",
              "      <td>0.00</td>\n",
              "    </tr>\n",
              "    <tr>\n",
              "      <th>2</th>\n",
              "      <td>MaxTemp</td>\n",
              "      <td>0.87</td>\n",
              "    </tr>\n",
              "    <tr>\n",
              "      <th>3</th>\n",
              "      <td>MinTemp</td>\n",
              "      <td>1.02</td>\n",
              "    </tr>\n",
              "    <tr>\n",
              "      <th>4</th>\n",
              "      <td>Temp9am</td>\n",
              "      <td>1.21</td>\n",
              "    </tr>\n",
              "    <tr>\n",
              "      <th>5</th>\n",
              "      <td>WindSpeed9am</td>\n",
              "      <td>1.21</td>\n",
              "    </tr>\n",
              "    <tr>\n",
              "      <th>6</th>\n",
              "      <td>Humidity9am</td>\n",
              "      <td>1.82</td>\n",
              "    </tr>\n",
              "    <tr>\n",
              "      <th>7</th>\n",
              "      <td>WindSpeed3pm</td>\n",
              "      <td>2.11</td>\n",
              "    </tr>\n",
              "    <tr>\n",
              "      <th>8</th>\n",
              "      <td>Rainfall</td>\n",
              "      <td>2.24</td>\n",
              "    </tr>\n",
              "    <tr>\n",
              "      <th>9</th>\n",
              "      <td>RainToday</td>\n",
              "      <td>2.24</td>\n",
              "    </tr>\n",
              "    <tr>\n",
              "      <th>10</th>\n",
              "      <td>RainTomorrow</td>\n",
              "      <td>2.25</td>\n",
              "    </tr>\n",
              "    <tr>\n",
              "      <th>11</th>\n",
              "      <td>Temp3pm</td>\n",
              "      <td>2.48</td>\n",
              "    </tr>\n",
              "    <tr>\n",
              "      <th>12</th>\n",
              "      <td>WindDir3pm</td>\n",
              "      <td>2.91</td>\n",
              "    </tr>\n",
              "    <tr>\n",
              "      <th>13</th>\n",
              "      <td>Humidity3pm</td>\n",
              "      <td>3.10</td>\n",
              "    </tr>\n",
              "    <tr>\n",
              "      <th>14</th>\n",
              "      <td>WindGustSpeed</td>\n",
              "      <td>7.06</td>\n",
              "    </tr>\n",
              "    <tr>\n",
              "      <th>15</th>\n",
              "      <td>WindGustDir</td>\n",
              "      <td>7.10</td>\n",
              "    </tr>\n",
              "    <tr>\n",
              "      <th>16</th>\n",
              "      <td>WindDir9am</td>\n",
              "      <td>7.26</td>\n",
              "    </tr>\n",
              "    <tr>\n",
              "      <th>17</th>\n",
              "      <td>Pressure3pm</td>\n",
              "      <td>10.33</td>\n",
              "    </tr>\n",
              "    <tr>\n",
              "      <th>18</th>\n",
              "      <td>Pressure9am</td>\n",
              "      <td>10.36</td>\n",
              "    </tr>\n",
              "    <tr>\n",
              "      <th>19</th>\n",
              "      <td>Cloud9am</td>\n",
              "      <td>38.42</td>\n",
              "    </tr>\n",
              "    <tr>\n",
              "      <th>20</th>\n",
              "      <td>Cloud3pm</td>\n",
              "      <td>40.81</td>\n",
              "    </tr>\n",
              "    <tr>\n",
              "      <th>21</th>\n",
              "      <td>Evaporation</td>\n",
              "      <td>43.17</td>\n",
              "    </tr>\n",
              "    <tr>\n",
              "      <th>22</th>\n",
              "      <td>Sunshine</td>\n",
              "      <td>48.01</td>\n",
              "    </tr>\n",
              "  </tbody>\n",
              "</table>\n",
              "</div>"
            ],
            "text/plain": [
              "      column_name  percent_missing\n",
              "0            Date             0.00\n",
              "1        Location             0.00\n",
              "2         MaxTemp             0.87\n",
              "3         MinTemp             1.02\n",
              "4         Temp9am             1.21\n",
              "5    WindSpeed9am             1.21\n",
              "6     Humidity9am             1.82\n",
              "7    WindSpeed3pm             2.11\n",
              "8        Rainfall             2.24\n",
              "9       RainToday             2.24\n",
              "10   RainTomorrow             2.25\n",
              "11        Temp3pm             2.48\n",
              "12     WindDir3pm             2.91\n",
              "13    Humidity3pm             3.10\n",
              "14  WindGustSpeed             7.06\n",
              "15    WindGustDir             7.10\n",
              "16     WindDir9am             7.26\n",
              "17    Pressure3pm            10.33\n",
              "18    Pressure9am            10.36\n",
              "19       Cloud9am            38.42\n",
              "20       Cloud3pm            40.81\n",
              "21    Evaporation            43.17\n",
              "22       Sunshine            48.01"
            ]
          },
          "metadata": {
            "tags": []
          },
          "execution_count": 8
        }
      ]
    },
    {
      "cell_type": "markdown",
      "metadata": {
        "id": "Lg01-HtFNSyh"
      },
      "source": [
        "* Baris yang memiliki missing value pada kolom 'RainTomorrow' dan 'RainToday' akan di drop, karena kolom tersebut merupakan label data."
      ]
    },
    {
      "cell_type": "code",
      "metadata": {
        "id": "7K0zF1QCNbZT"
      },
      "source": [
        "df.dropna(subset=['RainTomorrow', 'RainToday'], inplace=True)"
      ],
      "execution_count": 9,
      "outputs": []
    },
    {
      "cell_type": "markdown",
      "metadata": {
        "id": "Rnn5lXDjCamX"
      },
      "source": [
        "* Kolom 'Sunshine' dan 'Evaporation' memiliki persentase missing value yang tinggi, sehingga bisa dilakukan drop kolom pada kedua kolom tersebut.\n",
        "\n"
      ]
    },
    {
      "cell_type": "code",
      "metadata": {
        "id": "3XP0Se_TANDn"
      },
      "source": [
        "# Drop data\n",
        "df.drop('Evaporation', axis=1, inplace=True)\n",
        "df.drop('Sunshine', axis=1, inplace=True)"
      ],
      "execution_count": 10,
      "outputs": []
    },
    {
      "cell_type": "markdown",
      "metadata": {
        "id": "YXy26al-EUEA"
      },
      "source": [
        "* Untuk kolom dengan missing value yang lain, akan diganti dengan melakukan perhitungan interpolate pada data berdasarkan lokasi\n",
        "* Data akan di group berdasarkan kolom 'Location' untuk menghindari lokasi yang saling tindih"
      ]
    },
    {
      "cell_type": "code",
      "metadata": {
        "id": "0eAHW6Y_D5hs"
      },
      "source": [
        "# Grouping dataframe\n",
        "df_grouped = df.groupby('Location')\n",
        "df_location = {}\n",
        "for key, group in df_grouped:\n",
        "  df_location[key] = group"
      ],
      "execution_count": 11,
      "outputs": []
    },
    {
      "cell_type": "code",
      "metadata": {
        "colab": {
          "base_uri": "https://localhost:8080/",
          "height": 308
        },
        "id": "Too-b0pmG21j",
        "outputId": "2e6464dd-e7ee-40d6-908e-11f26a8b0de0"
      },
      "source": [
        "# Tampilkan 5 data teratas pada lokasi Albury\n",
        "df_location['Albury'][:5]"
      ],
      "execution_count": 12,
      "outputs": [
        {
          "output_type": "execute_result",
          "data": {
            "text/html": [
              "<div>\n",
              "<style scoped>\n",
              "    .dataframe tbody tr th:only-of-type {\n",
              "        vertical-align: middle;\n",
              "    }\n",
              "\n",
              "    .dataframe tbody tr th {\n",
              "        vertical-align: top;\n",
              "    }\n",
              "\n",
              "    .dataframe thead th {\n",
              "        text-align: right;\n",
              "    }\n",
              "</style>\n",
              "<table border=\"1\" class=\"dataframe\">\n",
              "  <thead>\n",
              "    <tr style=\"text-align: right;\">\n",
              "      <th></th>\n",
              "      <th>Date</th>\n",
              "      <th>Location</th>\n",
              "      <th>MinTemp</th>\n",
              "      <th>MaxTemp</th>\n",
              "      <th>Rainfall</th>\n",
              "      <th>WindGustDir</th>\n",
              "      <th>WindGustSpeed</th>\n",
              "      <th>WindDir9am</th>\n",
              "      <th>WindDir3pm</th>\n",
              "      <th>WindSpeed9am</th>\n",
              "      <th>WindSpeed3pm</th>\n",
              "      <th>Humidity9am</th>\n",
              "      <th>Humidity3pm</th>\n",
              "      <th>Pressure9am</th>\n",
              "      <th>Pressure3pm</th>\n",
              "      <th>Cloud9am</th>\n",
              "      <th>Cloud3pm</th>\n",
              "      <th>Temp9am</th>\n",
              "      <th>Temp3pm</th>\n",
              "      <th>RainToday</th>\n",
              "      <th>RainTomorrow</th>\n",
              "    </tr>\n",
              "  </thead>\n",
              "  <tbody>\n",
              "    <tr>\n",
              "      <th>0</th>\n",
              "      <td>2008-12-01</td>\n",
              "      <td>Albury</td>\n",
              "      <td>13.4</td>\n",
              "      <td>22.9</td>\n",
              "      <td>0.6</td>\n",
              "      <td>270.0</td>\n",
              "      <td>44.0</td>\n",
              "      <td>270.0</td>\n",
              "      <td>292.5</td>\n",
              "      <td>20.0</td>\n",
              "      <td>24.0</td>\n",
              "      <td>71.0</td>\n",
              "      <td>22.0</td>\n",
              "      <td>1007.7</td>\n",
              "      <td>1007.1</td>\n",
              "      <td>8.0</td>\n",
              "      <td>NaN</td>\n",
              "      <td>16.9</td>\n",
              "      <td>21.8</td>\n",
              "      <td>No</td>\n",
              "      <td>No</td>\n",
              "    </tr>\n",
              "    <tr>\n",
              "      <th>1</th>\n",
              "      <td>2008-12-02</td>\n",
              "      <td>Albury</td>\n",
              "      <td>7.4</td>\n",
              "      <td>25.1</td>\n",
              "      <td>0.0</td>\n",
              "      <td>292.5</td>\n",
              "      <td>44.0</td>\n",
              "      <td>337.5</td>\n",
              "      <td>247.5</td>\n",
              "      <td>4.0</td>\n",
              "      <td>22.0</td>\n",
              "      <td>44.0</td>\n",
              "      <td>25.0</td>\n",
              "      <td>1010.6</td>\n",
              "      <td>1007.8</td>\n",
              "      <td>NaN</td>\n",
              "      <td>NaN</td>\n",
              "      <td>17.2</td>\n",
              "      <td>24.3</td>\n",
              "      <td>No</td>\n",
              "      <td>No</td>\n",
              "    </tr>\n",
              "    <tr>\n",
              "      <th>2</th>\n",
              "      <td>2008-12-03</td>\n",
              "      <td>Albury</td>\n",
              "      <td>12.9</td>\n",
              "      <td>25.7</td>\n",
              "      <td>0.0</td>\n",
              "      <td>247.5</td>\n",
              "      <td>46.0</td>\n",
              "      <td>270.0</td>\n",
              "      <td>247.5</td>\n",
              "      <td>19.0</td>\n",
              "      <td>26.0</td>\n",
              "      <td>38.0</td>\n",
              "      <td>30.0</td>\n",
              "      <td>1007.6</td>\n",
              "      <td>1008.7</td>\n",
              "      <td>NaN</td>\n",
              "      <td>2.0</td>\n",
              "      <td>21.0</td>\n",
              "      <td>23.2</td>\n",
              "      <td>No</td>\n",
              "      <td>No</td>\n",
              "    </tr>\n",
              "    <tr>\n",
              "      <th>3</th>\n",
              "      <td>2008-12-04</td>\n",
              "      <td>Albury</td>\n",
              "      <td>9.2</td>\n",
              "      <td>28.0</td>\n",
              "      <td>0.0</td>\n",
              "      <td>45.0</td>\n",
              "      <td>24.0</td>\n",
              "      <td>135.0</td>\n",
              "      <td>90.0</td>\n",
              "      <td>11.0</td>\n",
              "      <td>9.0</td>\n",
              "      <td>45.0</td>\n",
              "      <td>16.0</td>\n",
              "      <td>1017.6</td>\n",
              "      <td>1012.8</td>\n",
              "      <td>NaN</td>\n",
              "      <td>NaN</td>\n",
              "      <td>18.1</td>\n",
              "      <td>26.5</td>\n",
              "      <td>No</td>\n",
              "      <td>No</td>\n",
              "    </tr>\n",
              "    <tr>\n",
              "      <th>4</th>\n",
              "      <td>2008-12-05</td>\n",
              "      <td>Albury</td>\n",
              "      <td>17.5</td>\n",
              "      <td>32.3</td>\n",
              "      <td>1.0</td>\n",
              "      <td>270.0</td>\n",
              "      <td>41.0</td>\n",
              "      <td>67.5</td>\n",
              "      <td>315.0</td>\n",
              "      <td>7.0</td>\n",
              "      <td>20.0</td>\n",
              "      <td>82.0</td>\n",
              "      <td>33.0</td>\n",
              "      <td>1010.8</td>\n",
              "      <td>1006.0</td>\n",
              "      <td>7.0</td>\n",
              "      <td>8.0</td>\n",
              "      <td>17.8</td>\n",
              "      <td>29.7</td>\n",
              "      <td>No</td>\n",
              "      <td>No</td>\n",
              "    </tr>\n",
              "  </tbody>\n",
              "</table>\n",
              "</div>"
            ],
            "text/plain": [
              "         Date Location  MinTemp  ...  Temp3pm  RainToday  RainTomorrow\n",
              "0  2008-12-01   Albury     13.4  ...     21.8         No            No\n",
              "1  2008-12-02   Albury      7.4  ...     24.3         No            No\n",
              "2  2008-12-03   Albury     12.9  ...     23.2         No            No\n",
              "3  2008-12-04   Albury      9.2  ...     26.5         No            No\n",
              "4  2008-12-05   Albury     17.5  ...     29.7         No            No\n",
              "\n",
              "[5 rows x 21 columns]"
            ]
          },
          "metadata": {
            "tags": []
          },
          "execution_count": 12
        }
      ]
    },
    {
      "cell_type": "code",
      "metadata": {
        "id": "wtWqB453JFCY"
      },
      "source": [
        "for lokasi in df_location :\n",
        "  df_location[lokasi] = df_location[lokasi].interpolate(method = 'linear', limit_direction = 'both')"
      ],
      "execution_count": 13,
      "outputs": []
    },
    {
      "cell_type": "markdown",
      "metadata": {
        "id": "8N6UJNkYKJ8G"
      },
      "source": [
        "####Merge Dataframe\n",
        "Data yang di group berdasarkan lokasi akan dimasukkan lagi ke dataframe asli"
      ]
    },
    {
      "cell_type": "code",
      "metadata": {
        "id": "rQwsLxwwKFmK"
      },
      "source": [
        "# Merge dataframe\n",
        "df = pd.DataFrame()\n",
        "for lokasi in df_location:\n",
        "  df = pd.concat([df, df_location[lokasi]])"
      ],
      "execution_count": 14,
      "outputs": []
    },
    {
      "cell_type": "code",
      "metadata": {
        "colab": {
          "base_uri": "https://localhost:8080/",
          "height": 308
        },
        "id": "mAzwoSzDKZe3",
        "outputId": "f9989616-ad89-4b61-c95a-3c03ea4c8fe9"
      },
      "source": [
        "df.head()"
      ],
      "execution_count": 15,
      "outputs": [
        {
          "output_type": "execute_result",
          "data": {
            "text/html": [
              "<div>\n",
              "<style scoped>\n",
              "    .dataframe tbody tr th:only-of-type {\n",
              "        vertical-align: middle;\n",
              "    }\n",
              "\n",
              "    .dataframe tbody tr th {\n",
              "        vertical-align: top;\n",
              "    }\n",
              "\n",
              "    .dataframe thead th {\n",
              "        text-align: right;\n",
              "    }\n",
              "</style>\n",
              "<table border=\"1\" class=\"dataframe\">\n",
              "  <thead>\n",
              "    <tr style=\"text-align: right;\">\n",
              "      <th></th>\n",
              "      <th>Date</th>\n",
              "      <th>Location</th>\n",
              "      <th>MinTemp</th>\n",
              "      <th>MaxTemp</th>\n",
              "      <th>Rainfall</th>\n",
              "      <th>WindGustDir</th>\n",
              "      <th>WindGustSpeed</th>\n",
              "      <th>WindDir9am</th>\n",
              "      <th>WindDir3pm</th>\n",
              "      <th>WindSpeed9am</th>\n",
              "      <th>WindSpeed3pm</th>\n",
              "      <th>Humidity9am</th>\n",
              "      <th>Humidity3pm</th>\n",
              "      <th>Pressure9am</th>\n",
              "      <th>Pressure3pm</th>\n",
              "      <th>Cloud9am</th>\n",
              "      <th>Cloud3pm</th>\n",
              "      <th>Temp9am</th>\n",
              "      <th>Temp3pm</th>\n",
              "      <th>RainToday</th>\n",
              "      <th>RainTomorrow</th>\n",
              "    </tr>\n",
              "  </thead>\n",
              "  <tbody>\n",
              "    <tr>\n",
              "      <th>96320</th>\n",
              "      <td>2008-07-01</td>\n",
              "      <td>Adelaide</td>\n",
              "      <td>8.8</td>\n",
              "      <td>15.7</td>\n",
              "      <td>5.0</td>\n",
              "      <td>315.0</td>\n",
              "      <td>48.0</td>\n",
              "      <td>225.0</td>\n",
              "      <td>270.0</td>\n",
              "      <td>13.0</td>\n",
              "      <td>15.0</td>\n",
              "      <td>92.0</td>\n",
              "      <td>67.0</td>\n",
              "      <td>1017.4</td>\n",
              "      <td>1017.7</td>\n",
              "      <td>NaN</td>\n",
              "      <td>NaN</td>\n",
              "      <td>13.5</td>\n",
              "      <td>14.9</td>\n",
              "      <td>Yes</td>\n",
              "      <td>No</td>\n",
              "    </tr>\n",
              "    <tr>\n",
              "      <th>96321</th>\n",
              "      <td>2008-07-02</td>\n",
              "      <td>Adelaide</td>\n",
              "      <td>12.7</td>\n",
              "      <td>15.8</td>\n",
              "      <td>0.8</td>\n",
              "      <td>225.0</td>\n",
              "      <td>35.0</td>\n",
              "      <td>202.5</td>\n",
              "      <td>225.0</td>\n",
              "      <td>13.0</td>\n",
              "      <td>15.0</td>\n",
              "      <td>75.0</td>\n",
              "      <td>52.0</td>\n",
              "      <td>1022.4</td>\n",
              "      <td>1022.6</td>\n",
              "      <td>NaN</td>\n",
              "      <td>NaN</td>\n",
              "      <td>13.7</td>\n",
              "      <td>15.5</td>\n",
              "      <td>No</td>\n",
              "      <td>No</td>\n",
              "    </tr>\n",
              "    <tr>\n",
              "      <th>96322</th>\n",
              "      <td>2008-07-03</td>\n",
              "      <td>Adelaide</td>\n",
              "      <td>6.2</td>\n",
              "      <td>15.1</td>\n",
              "      <td>0.0</td>\n",
              "      <td>270.0</td>\n",
              "      <td>20.0</td>\n",
              "      <td>22.5</td>\n",
              "      <td>225.0</td>\n",
              "      <td>2.0</td>\n",
              "      <td>11.0</td>\n",
              "      <td>81.0</td>\n",
              "      <td>56.0</td>\n",
              "      <td>1027.8</td>\n",
              "      <td>1026.5</td>\n",
              "      <td>NaN</td>\n",
              "      <td>NaN</td>\n",
              "      <td>9.3</td>\n",
              "      <td>13.9</td>\n",
              "      <td>No</td>\n",
              "      <td>No</td>\n",
              "    </tr>\n",
              "    <tr>\n",
              "      <th>96323</th>\n",
              "      <td>2008-07-04</td>\n",
              "      <td>Adelaide</td>\n",
              "      <td>5.3</td>\n",
              "      <td>15.9</td>\n",
              "      <td>0.0</td>\n",
              "      <td>22.5</td>\n",
              "      <td>30.0</td>\n",
              "      <td>22.5</td>\n",
              "      <td>45.0</td>\n",
              "      <td>6.0</td>\n",
              "      <td>13.0</td>\n",
              "      <td>71.0</td>\n",
              "      <td>46.0</td>\n",
              "      <td>1028.7</td>\n",
              "      <td>1025.6</td>\n",
              "      <td>NaN</td>\n",
              "      <td>NaN</td>\n",
              "      <td>10.2</td>\n",
              "      <td>15.3</td>\n",
              "      <td>No</td>\n",
              "      <td>No</td>\n",
              "    </tr>\n",
              "    <tr>\n",
              "      <th>96326</th>\n",
              "      <td>2008-07-07</td>\n",
              "      <td>Adelaide</td>\n",
              "      <td>7.6</td>\n",
              "      <td>11.2</td>\n",
              "      <td>16.2</td>\n",
              "      <td>247.5</td>\n",
              "      <td>46.0</td>\n",
              "      <td>292.5</td>\n",
              "      <td>225.0</td>\n",
              "      <td>17.0</td>\n",
              "      <td>13.0</td>\n",
              "      <td>83.0</td>\n",
              "      <td>88.0</td>\n",
              "      <td>1015.9</td>\n",
              "      <td>1017.9</td>\n",
              "      <td>NaN</td>\n",
              "      <td>NaN</td>\n",
              "      <td>9.8</td>\n",
              "      <td>9.3</td>\n",
              "      <td>Yes</td>\n",
              "      <td>Yes</td>\n",
              "    </tr>\n",
              "  </tbody>\n",
              "</table>\n",
              "</div>"
            ],
            "text/plain": [
              "             Date  Location  MinTemp  ...  Temp3pm  RainToday  RainTomorrow\n",
              "96320  2008-07-01  Adelaide      8.8  ...     14.9        Yes            No\n",
              "96321  2008-07-02  Adelaide     12.7  ...     15.5         No            No\n",
              "96322  2008-07-03  Adelaide      6.2  ...     13.9         No            No\n",
              "96323  2008-07-04  Adelaide      5.3  ...     15.3         No            No\n",
              "96326  2008-07-07  Adelaide      7.6  ...      9.3        Yes           Yes\n",
              "\n",
              "[5 rows x 21 columns]"
            ]
          },
          "metadata": {
            "tags": []
          },
          "execution_count": 15
        }
      ]
    },
    {
      "cell_type": "markdown",
      "metadata": {
        "id": "4VKhRXeyPBkj"
      },
      "source": [
        "* Sisa dari missing value akan diganti dengan mean dan median nya.\n",
        "* Mean digunakan untuk data yang bersifat kontinu seeprti 'Pressure9pm', median digunakan untuk data yang bersifat kategorial seperti 'WindGustDir'"
      ]
    },
    {
      "cell_type": "code",
      "metadata": {
        "colab": {
          "base_uri": "https://localhost:8080/"
        },
        "id": "QGiR1sV0PKX1",
        "outputId": "a3f0f6b8-15a9-4ab4-85fe-990100d8b8bf"
      },
      "source": [
        "df.isnull().sum()"
      ],
      "execution_count": 16,
      "outputs": [
        {
          "output_type": "execute_result",
          "data": {
            "text/plain": [
              "Date                 0\n",
              "Location             0\n",
              "MinTemp              0\n",
              "MaxTemp              0\n",
              "Rainfall             0\n",
              "WindGustDir       5925\n",
              "WindGustSpeed     5925\n",
              "WindDir9am           0\n",
              "WindDir3pm           0\n",
              "WindSpeed9am         0\n",
              "WindSpeed3pm         0\n",
              "Humidity9am          0\n",
              "Humidity3pm          0\n",
              "Pressure9am      11597\n",
              "Pressure3pm      11597\n",
              "Cloud9am         33534\n",
              "Cloud3pm         33534\n",
              "Temp9am              0\n",
              "Temp3pm              0\n",
              "RainToday            0\n",
              "RainTomorrow         0\n",
              "dtype: int64"
            ]
          },
          "metadata": {
            "tags": []
          },
          "execution_count": 16
        }
      ]
    },
    {
      "cell_type": "code",
      "metadata": {
        "id": "bxDpJTFSPUNY"
      },
      "source": [
        "df['WindGustDir'].fillna((df['WindGustDir'].median()), inplace=True)\n",
        "df['WindGustSpeed'].fillna((df['WindGustSpeed'].mean()), inplace=True)\n",
        "df['Pressure9am'].fillna((df['Pressure9am'].mean()), inplace=True)\n",
        "df['Pressure3pm'].fillna((df['Pressure3pm'].mean()), inplace=True)\n",
        "df['Cloud9am'].fillna((df['Cloud9am'].mean()), inplace=True)\n",
        "df['Cloud3pm'].fillna((df['Cloud3pm'].mean()), inplace=True)"
      ],
      "execution_count": 17,
      "outputs": []
    },
    {
      "cell_type": "markdown",
      "metadata": {
        "id": "Tvi8DMAnRsj0"
      },
      "source": [
        "* Handling misisng value selesai"
      ]
    },
    {
      "cell_type": "code",
      "metadata": {
        "colab": {
          "base_uri": "https://localhost:8080/",
          "height": 308
        },
        "id": "rS4x7plZRfCR",
        "outputId": "bb412a4b-69e9-4705-b556-c3f0035b45d2"
      },
      "source": [
        "df.head()"
      ],
      "execution_count": 18,
      "outputs": [
        {
          "output_type": "execute_result",
          "data": {
            "text/html": [
              "<div>\n",
              "<style scoped>\n",
              "    .dataframe tbody tr th:only-of-type {\n",
              "        vertical-align: middle;\n",
              "    }\n",
              "\n",
              "    .dataframe tbody tr th {\n",
              "        vertical-align: top;\n",
              "    }\n",
              "\n",
              "    .dataframe thead th {\n",
              "        text-align: right;\n",
              "    }\n",
              "</style>\n",
              "<table border=\"1\" class=\"dataframe\">\n",
              "  <thead>\n",
              "    <tr style=\"text-align: right;\">\n",
              "      <th></th>\n",
              "      <th>Date</th>\n",
              "      <th>Location</th>\n",
              "      <th>MinTemp</th>\n",
              "      <th>MaxTemp</th>\n",
              "      <th>Rainfall</th>\n",
              "      <th>WindGustDir</th>\n",
              "      <th>WindGustSpeed</th>\n",
              "      <th>WindDir9am</th>\n",
              "      <th>WindDir3pm</th>\n",
              "      <th>WindSpeed9am</th>\n",
              "      <th>WindSpeed3pm</th>\n",
              "      <th>Humidity9am</th>\n",
              "      <th>Humidity3pm</th>\n",
              "      <th>Pressure9am</th>\n",
              "      <th>Pressure3pm</th>\n",
              "      <th>Cloud9am</th>\n",
              "      <th>Cloud3pm</th>\n",
              "      <th>Temp9am</th>\n",
              "      <th>Temp3pm</th>\n",
              "      <th>RainToday</th>\n",
              "      <th>RainTomorrow</th>\n",
              "    </tr>\n",
              "  </thead>\n",
              "  <tbody>\n",
              "    <tr>\n",
              "      <th>96320</th>\n",
              "      <td>2008-07-01</td>\n",
              "      <td>Adelaide</td>\n",
              "      <td>8.8</td>\n",
              "      <td>15.7</td>\n",
              "      <td>5.0</td>\n",
              "      <td>315.0</td>\n",
              "      <td>48.0</td>\n",
              "      <td>225.0</td>\n",
              "      <td>270.0</td>\n",
              "      <td>13.0</td>\n",
              "      <td>15.0</td>\n",
              "      <td>92.0</td>\n",
              "      <td>67.0</td>\n",
              "      <td>1017.4</td>\n",
              "      <td>1017.7</td>\n",
              "      <td>4.661781</td>\n",
              "      <td>4.532815</td>\n",
              "      <td>13.5</td>\n",
              "      <td>14.9</td>\n",
              "      <td>Yes</td>\n",
              "      <td>No</td>\n",
              "    </tr>\n",
              "    <tr>\n",
              "      <th>96321</th>\n",
              "      <td>2008-07-02</td>\n",
              "      <td>Adelaide</td>\n",
              "      <td>12.7</td>\n",
              "      <td>15.8</td>\n",
              "      <td>0.8</td>\n",
              "      <td>225.0</td>\n",
              "      <td>35.0</td>\n",
              "      <td>202.5</td>\n",
              "      <td>225.0</td>\n",
              "      <td>13.0</td>\n",
              "      <td>15.0</td>\n",
              "      <td>75.0</td>\n",
              "      <td>52.0</td>\n",
              "      <td>1022.4</td>\n",
              "      <td>1022.6</td>\n",
              "      <td>4.661781</td>\n",
              "      <td>4.532815</td>\n",
              "      <td>13.7</td>\n",
              "      <td>15.5</td>\n",
              "      <td>No</td>\n",
              "      <td>No</td>\n",
              "    </tr>\n",
              "    <tr>\n",
              "      <th>96322</th>\n",
              "      <td>2008-07-03</td>\n",
              "      <td>Adelaide</td>\n",
              "      <td>6.2</td>\n",
              "      <td>15.1</td>\n",
              "      <td>0.0</td>\n",
              "      <td>270.0</td>\n",
              "      <td>20.0</td>\n",
              "      <td>22.5</td>\n",
              "      <td>225.0</td>\n",
              "      <td>2.0</td>\n",
              "      <td>11.0</td>\n",
              "      <td>81.0</td>\n",
              "      <td>56.0</td>\n",
              "      <td>1027.8</td>\n",
              "      <td>1026.5</td>\n",
              "      <td>4.661781</td>\n",
              "      <td>4.532815</td>\n",
              "      <td>9.3</td>\n",
              "      <td>13.9</td>\n",
              "      <td>No</td>\n",
              "      <td>No</td>\n",
              "    </tr>\n",
              "    <tr>\n",
              "      <th>96323</th>\n",
              "      <td>2008-07-04</td>\n",
              "      <td>Adelaide</td>\n",
              "      <td>5.3</td>\n",
              "      <td>15.9</td>\n",
              "      <td>0.0</td>\n",
              "      <td>22.5</td>\n",
              "      <td>30.0</td>\n",
              "      <td>22.5</td>\n",
              "      <td>45.0</td>\n",
              "      <td>6.0</td>\n",
              "      <td>13.0</td>\n",
              "      <td>71.0</td>\n",
              "      <td>46.0</td>\n",
              "      <td>1028.7</td>\n",
              "      <td>1025.6</td>\n",
              "      <td>4.661781</td>\n",
              "      <td>4.532815</td>\n",
              "      <td>10.2</td>\n",
              "      <td>15.3</td>\n",
              "      <td>No</td>\n",
              "      <td>No</td>\n",
              "    </tr>\n",
              "    <tr>\n",
              "      <th>96326</th>\n",
              "      <td>2008-07-07</td>\n",
              "      <td>Adelaide</td>\n",
              "      <td>7.6</td>\n",
              "      <td>11.2</td>\n",
              "      <td>16.2</td>\n",
              "      <td>247.5</td>\n",
              "      <td>46.0</td>\n",
              "      <td>292.5</td>\n",
              "      <td>225.0</td>\n",
              "      <td>17.0</td>\n",
              "      <td>13.0</td>\n",
              "      <td>83.0</td>\n",
              "      <td>88.0</td>\n",
              "      <td>1015.9</td>\n",
              "      <td>1017.9</td>\n",
              "      <td>4.661781</td>\n",
              "      <td>4.532815</td>\n",
              "      <td>9.8</td>\n",
              "      <td>9.3</td>\n",
              "      <td>Yes</td>\n",
              "      <td>Yes</td>\n",
              "    </tr>\n",
              "  </tbody>\n",
              "</table>\n",
              "</div>"
            ],
            "text/plain": [
              "             Date  Location  MinTemp  ...  Temp3pm  RainToday  RainTomorrow\n",
              "96320  2008-07-01  Adelaide      8.8  ...     14.9        Yes            No\n",
              "96321  2008-07-02  Adelaide     12.7  ...     15.5         No            No\n",
              "96322  2008-07-03  Adelaide      6.2  ...     13.9         No            No\n",
              "96323  2008-07-04  Adelaide      5.3  ...     15.3         No            No\n",
              "96326  2008-07-07  Adelaide      7.6  ...      9.3        Yes           Yes\n",
              "\n",
              "[5 rows x 21 columns]"
            ]
          },
          "metadata": {
            "tags": []
          },
          "execution_count": 18
        }
      ]
    },
    {
      "cell_type": "markdown",
      "metadata": {
        "id": "viqBeXvgR96T"
      },
      "source": [
        "### Normalization\n",
        "Data yang bersifat kategorial akan direpresentasikan menjadi angka, dan untuk data bersifat kontinu dilakukan MinMaxScaler karena label bersifat biner."
      ]
    },
    {
      "cell_type": "markdown",
      "metadata": {
        "id": "n_MzYvQlStFR"
      },
      "source": [
        "####Date\n",
        "Tanggal dikelompokkan menjadi 4 musim (dingin, semi, gugur, panas) sehingga kolom 'Date' menjadi data kategorial dengan pembagian:\n",
        "\n",
        "\n",
        "* Musim dingin = 0 \n",
        "* Musim semi = 1\n",
        "* Musim gugur = 2 \n",
        "* Musim panas = 3\n",
        "\n"
      ]
    },
    {
      "cell_type": "code",
      "metadata": {
        "id": "YfikxOkqVNI5"
      },
      "source": [
        "month = df['Date'].apply(lambda x:  dt.datetime.strptime(x,'%Y-%m-%d'))\n",
        "season = month.dt.month%12 // 3\n",
        "df['Date'] = season"
      ],
      "execution_count": 19,
      "outputs": []
    },
    {
      "cell_type": "markdown",
      "metadata": {
        "id": "3dWHVVsVYMLZ"
      },
      "source": [
        "####Encoding"
      ]
    },
    {
      "cell_type": "markdown",
      "metadata": {
        "id": "6y5Ug0U-W3HV"
      },
      "source": [
        "Kolom 'Location', 'RainToday', 'RainTomorrow' akan direpresentasikan menjadi angka"
      ]
    },
    {
      "cell_type": "code",
      "metadata": {
        "id": "W8lU89GzRvvo"
      },
      "source": [
        "# Merubah semua kolom tipe 'object' menjadi 'category'\n",
        "object_column = df.select_dtypes(['object']).columns\n",
        "\n",
        "category_column = df.select_dtypes(['category']).columns\n",
        "df[object_column]=df[object_column].apply(lambda x: x.astype('category'))\n",
        "\n",
        "# Merubah data 'category' menjad representasi angka nya\n",
        "df[object_column] = df[object_column].apply(lambda x: x.cat.codes)\n",
        "df[category_column] = df[category_column].apply(lambda x: x.cat.codes)"
      ],
      "execution_count": 20,
      "outputs": []
    },
    {
      "cell_type": "markdown",
      "metadata": {
        "id": "diZ3s27PYXuc"
      },
      "source": [
        "* Memisah label dengan feature"
      ]
    },
    {
      "cell_type": "code",
      "metadata": {
        "id": "xRAXlJHFUOiL"
      },
      "source": [
        "df_label = df['RainTomorrow']\n",
        "df_feature = df.drop('RainTomorrow', axis=1)"
      ],
      "execution_count": 21,
      "outputs": []
    },
    {
      "cell_type": "markdown",
      "metadata": {
        "id": "9AX8idEbZRNn"
      },
      "source": [
        "####Min-Max Scaler\n",
        "Data akan di normalisasi menggunakan fungsi Min-Max, agar data memiliki rentang yang sama yaitu 0-1 sebagai input model machine learning."
      ]
    },
    {
      "cell_type": "code",
      "metadata": {
        "colab": {
          "base_uri": "https://localhost:8080/",
          "height": 438
        },
        "id": "gU1Vrmo9YCJB",
        "outputId": "744891de-004a-4ee5-968a-84505361d0e9"
      },
      "source": [
        "normalize = MinMaxScaler()\n",
        "df_feature = pd.DataFrame(normalize.fit_transform(df_feature.values), columns=df_feature.columns, index=df_feature.index)\n",
        "df_feature"
      ],
      "execution_count": 22,
      "outputs": [
        {
          "output_type": "execute_result",
          "data": {
            "text/html": [
              "<div>\n",
              "<style scoped>\n",
              "    .dataframe tbody tr th:only-of-type {\n",
              "        vertical-align: middle;\n",
              "    }\n",
              "\n",
              "    .dataframe tbody tr th {\n",
              "        vertical-align: top;\n",
              "    }\n",
              "\n",
              "    .dataframe thead th {\n",
              "        text-align: right;\n",
              "    }\n",
              "</style>\n",
              "<table border=\"1\" class=\"dataframe\">\n",
              "  <thead>\n",
              "    <tr style=\"text-align: right;\">\n",
              "      <th></th>\n",
              "      <th>Date</th>\n",
              "      <th>Location</th>\n",
              "      <th>MinTemp</th>\n",
              "      <th>MaxTemp</th>\n",
              "      <th>Rainfall</th>\n",
              "      <th>WindGustDir</th>\n",
              "      <th>WindGustSpeed</th>\n",
              "      <th>WindDir9am</th>\n",
              "      <th>WindDir3pm</th>\n",
              "      <th>WindSpeed9am</th>\n",
              "      <th>WindSpeed3pm</th>\n",
              "      <th>Humidity9am</th>\n",
              "      <th>Humidity3pm</th>\n",
              "      <th>Pressure9am</th>\n",
              "      <th>Pressure3pm</th>\n",
              "      <th>Cloud9am</th>\n",
              "      <th>Cloud3pm</th>\n",
              "      <th>Temp9am</th>\n",
              "      <th>Temp3pm</th>\n",
              "      <th>RainToday</th>\n",
              "    </tr>\n",
              "  </thead>\n",
              "  <tbody>\n",
              "    <tr>\n",
              "      <th>96320</th>\n",
              "      <td>0.666667</td>\n",
              "      <td>0.0</td>\n",
              "      <td>0.408019</td>\n",
              "      <td>0.387524</td>\n",
              "      <td>0.013477</td>\n",
              "      <td>0.933333</td>\n",
              "      <td>0.325581</td>\n",
              "      <td>0.666667</td>\n",
              "      <td>0.800000</td>\n",
              "      <td>0.100000</td>\n",
              "      <td>0.172414</td>\n",
              "      <td>0.92</td>\n",
              "      <td>0.67</td>\n",
              "      <td>0.609917</td>\n",
              "      <td>0.6496</td>\n",
              "      <td>0.517976</td>\n",
              "      <td>0.503646</td>\n",
              "      <td>0.436709</td>\n",
              "      <td>0.389635</td>\n",
              "      <td>1.0</td>\n",
              "    </tr>\n",
              "    <tr>\n",
              "      <th>96321</th>\n",
              "      <td>0.666667</td>\n",
              "      <td>0.0</td>\n",
              "      <td>0.500000</td>\n",
              "      <td>0.389414</td>\n",
              "      <td>0.002156</td>\n",
              "      <td>0.666667</td>\n",
              "      <td>0.224806</td>\n",
              "      <td>0.600000</td>\n",
              "      <td>0.666667</td>\n",
              "      <td>0.100000</td>\n",
              "      <td>0.172414</td>\n",
              "      <td>0.75</td>\n",
              "      <td>0.52</td>\n",
              "      <td>0.692562</td>\n",
              "      <td>0.7280</td>\n",
              "      <td>0.517976</td>\n",
              "      <td>0.503646</td>\n",
              "      <td>0.440928</td>\n",
              "      <td>0.401152</td>\n",
              "      <td>0.0</td>\n",
              "    </tr>\n",
              "    <tr>\n",
              "      <th>96322</th>\n",
              "      <td>0.666667</td>\n",
              "      <td>0.0</td>\n",
              "      <td>0.346698</td>\n",
              "      <td>0.376181</td>\n",
              "      <td>0.000000</td>\n",
              "      <td>0.800000</td>\n",
              "      <td>0.108527</td>\n",
              "      <td>0.066667</td>\n",
              "      <td>0.666667</td>\n",
              "      <td>0.015385</td>\n",
              "      <td>0.126437</td>\n",
              "      <td>0.81</td>\n",
              "      <td>0.56</td>\n",
              "      <td>0.781818</td>\n",
              "      <td>0.7904</td>\n",
              "      <td>0.517976</td>\n",
              "      <td>0.503646</td>\n",
              "      <td>0.348101</td>\n",
              "      <td>0.370441</td>\n",
              "      <td>0.0</td>\n",
              "    </tr>\n",
              "    <tr>\n",
              "      <th>96323</th>\n",
              "      <td>0.666667</td>\n",
              "      <td>0.0</td>\n",
              "      <td>0.325472</td>\n",
              "      <td>0.391304</td>\n",
              "      <td>0.000000</td>\n",
              "      <td>0.066667</td>\n",
              "      <td>0.186047</td>\n",
              "      <td>0.066667</td>\n",
              "      <td>0.133333</td>\n",
              "      <td>0.046154</td>\n",
              "      <td>0.149425</td>\n",
              "      <td>0.71</td>\n",
              "      <td>0.46</td>\n",
              "      <td>0.796694</td>\n",
              "      <td>0.7760</td>\n",
              "      <td>0.517976</td>\n",
              "      <td>0.503646</td>\n",
              "      <td>0.367089</td>\n",
              "      <td>0.397313</td>\n",
              "      <td>0.0</td>\n",
              "    </tr>\n",
              "    <tr>\n",
              "      <th>96326</th>\n",
              "      <td>0.666667</td>\n",
              "      <td>0.0</td>\n",
              "      <td>0.379717</td>\n",
              "      <td>0.302457</td>\n",
              "      <td>0.043666</td>\n",
              "      <td>0.733333</td>\n",
              "      <td>0.310078</td>\n",
              "      <td>0.866667</td>\n",
              "      <td>0.666667</td>\n",
              "      <td>0.130769</td>\n",
              "      <td>0.149425</td>\n",
              "      <td>0.83</td>\n",
              "      <td>0.88</td>\n",
              "      <td>0.585124</td>\n",
              "      <td>0.6528</td>\n",
              "      <td>0.517976</td>\n",
              "      <td>0.503646</td>\n",
              "      <td>0.358650</td>\n",
              "      <td>0.282150</td>\n",
              "      <td>1.0</td>\n",
              "    </tr>\n",
              "    <tr>\n",
              "      <th>...</th>\n",
              "      <td>...</td>\n",
              "      <td>...</td>\n",
              "      <td>...</td>\n",
              "      <td>...</td>\n",
              "      <td>...</td>\n",
              "      <td>...</td>\n",
              "      <td>...</td>\n",
              "      <td>...</td>\n",
              "      <td>...</td>\n",
              "      <td>...</td>\n",
              "      <td>...</td>\n",
              "      <td>...</td>\n",
              "      <td>...</td>\n",
              "      <td>...</td>\n",
              "      <td>...</td>\n",
              "      <td>...</td>\n",
              "      <td>...</td>\n",
              "      <td>...</td>\n",
              "      <td>...</td>\n",
              "      <td>...</td>\n",
              "    </tr>\n",
              "    <tr>\n",
              "      <th>108565</th>\n",
              "      <td>0.666667</td>\n",
              "      <td>1.0</td>\n",
              "      <td>0.332547</td>\n",
              "      <td>0.463138</td>\n",
              "      <td>0.000000</td>\n",
              "      <td>0.000000</td>\n",
              "      <td>0.108527</td>\n",
              "      <td>0.266667</td>\n",
              "      <td>0.333333</td>\n",
              "      <td>0.069231</td>\n",
              "      <td>0.080460</td>\n",
              "      <td>0.61</td>\n",
              "      <td>0.28</td>\n",
              "      <td>0.786777</td>\n",
              "      <td>0.7808</td>\n",
              "      <td>0.000000</td>\n",
              "      <td>0.740741</td>\n",
              "      <td>0.386076</td>\n",
              "      <td>0.472169</td>\n",
              "      <td>0.0</td>\n",
              "    </tr>\n",
              "    <tr>\n",
              "      <th>108566</th>\n",
              "      <td>0.666667</td>\n",
              "      <td>1.0</td>\n",
              "      <td>0.337264</td>\n",
              "      <td>0.466919</td>\n",
              "      <td>0.000000</td>\n",
              "      <td>0.200000</td>\n",
              "      <td>0.124031</td>\n",
              "      <td>0.333333</td>\n",
              "      <td>0.333333</td>\n",
              "      <td>0.084615</td>\n",
              "      <td>0.103448</td>\n",
              "      <td>0.52</td>\n",
              "      <td>0.22</td>\n",
              "      <td>0.783471</td>\n",
              "      <td>0.7680</td>\n",
              "      <td>0.111111</td>\n",
              "      <td>0.703704</td>\n",
              "      <td>0.386076</td>\n",
              "      <td>0.470250</td>\n",
              "      <td>0.0</td>\n",
              "    </tr>\n",
              "    <tr>\n",
              "      <th>108567</th>\n",
              "      <td>0.666667</td>\n",
              "      <td>1.0</td>\n",
              "      <td>0.384434</td>\n",
              "      <td>0.449905</td>\n",
              "      <td>0.000000</td>\n",
              "      <td>0.066667</td>\n",
              "      <td>0.193798</td>\n",
              "      <td>0.200000</td>\n",
              "      <td>1.000000</td>\n",
              "      <td>0.100000</td>\n",
              "      <td>0.195402</td>\n",
              "      <td>0.48</td>\n",
              "      <td>0.37</td>\n",
              "      <td>0.748760</td>\n",
              "      <td>0.7216</td>\n",
              "      <td>0.888889</td>\n",
              "      <td>0.666667</td>\n",
              "      <td>0.386076</td>\n",
              "      <td>0.449136</td>\n",
              "      <td>0.0</td>\n",
              "    </tr>\n",
              "    <tr>\n",
              "      <th>108568</th>\n",
              "      <td>0.666667</td>\n",
              "      <td>1.0</td>\n",
              "      <td>0.389151</td>\n",
              "      <td>0.516068</td>\n",
              "      <td>0.000000</td>\n",
              "      <td>1.000000</td>\n",
              "      <td>0.209302</td>\n",
              "      <td>0.000000</td>\n",
              "      <td>0.933333</td>\n",
              "      <td>0.100000</td>\n",
              "      <td>0.172414</td>\n",
              "      <td>0.57</td>\n",
              "      <td>0.31</td>\n",
              "      <td>0.669421</td>\n",
              "      <td>0.6576</td>\n",
              "      <td>0.777778</td>\n",
              "      <td>0.333333</td>\n",
              "      <td>0.394515</td>\n",
              "      <td>0.516315</td>\n",
              "      <td>0.0</td>\n",
              "    </tr>\n",
              "    <tr>\n",
              "      <th>108569</th>\n",
              "      <td>0.666667</td>\n",
              "      <td>1.0</td>\n",
              "      <td>0.471698</td>\n",
              "      <td>0.485822</td>\n",
              "      <td>0.000000</td>\n",
              "      <td>0.800000</td>\n",
              "      <td>0.209302</td>\n",
              "      <td>0.733333</td>\n",
              "      <td>0.733333</td>\n",
              "      <td>0.069231</td>\n",
              "      <td>0.229885</td>\n",
              "      <td>0.61</td>\n",
              "      <td>0.35</td>\n",
              "      <td>0.644628</td>\n",
              "      <td>0.6464</td>\n",
              "      <td>0.777778</td>\n",
              "      <td>0.333333</td>\n",
              "      <td>0.415612</td>\n",
              "      <td>0.500960</td>\n",
              "      <td>0.0</td>\n",
              "    </tr>\n",
              "  </tbody>\n",
              "</table>\n",
              "<p>140787 rows × 20 columns</p>\n",
              "</div>"
            ],
            "text/plain": [
              "            Date  Location   MinTemp  ...   Temp9am   Temp3pm  RainToday\n",
              "96320   0.666667       0.0  0.408019  ...  0.436709  0.389635        1.0\n",
              "96321   0.666667       0.0  0.500000  ...  0.440928  0.401152        0.0\n",
              "96322   0.666667       0.0  0.346698  ...  0.348101  0.370441        0.0\n",
              "96323   0.666667       0.0  0.325472  ...  0.367089  0.397313        0.0\n",
              "96326   0.666667       0.0  0.379717  ...  0.358650  0.282150        1.0\n",
              "...          ...       ...       ...  ...       ...       ...        ...\n",
              "108565  0.666667       1.0  0.332547  ...  0.386076  0.472169        0.0\n",
              "108566  0.666667       1.0  0.337264  ...  0.386076  0.470250        0.0\n",
              "108567  0.666667       1.0  0.384434  ...  0.386076  0.449136        0.0\n",
              "108568  0.666667       1.0  0.389151  ...  0.394515  0.516315        0.0\n",
              "108569  0.666667       1.0  0.471698  ...  0.415612  0.500960        0.0\n",
              "\n",
              "[140787 rows x 20 columns]"
            ]
          },
          "metadata": {
            "tags": []
          },
          "execution_count": 22
        }
      ]
    },
    {
      "cell_type": "markdown",
      "metadata": {
        "id": "-VxGxu_9f8cR"
      },
      "source": [
        "###Handling Outlier & Skewed Data\n"
      ]
    },
    {
      "cell_type": "code",
      "metadata": {
        "colab": {
          "base_uri": "https://localhost:8080/"
        },
        "id": "ZqYNi16ZhaQs",
        "outputId": "eb3b102b-92b8-4029-affb-56d2c55dec98"
      },
      "source": [
        "df_feature.skew(axis=0)"
      ],
      "execution_count": 23,
      "outputs": [
        {
          "output_type": "execute_result",
          "data": {
            "text/plain": [
              "Date             0.008973\n",
              "Location         0.017175\n",
              "MinTemp          0.025458\n",
              "MaxTemp          0.229677\n",
              "Rainfall         9.888061\n",
              "WindGustDir     -0.073708\n",
              "WindGustSpeed    0.870441\n",
              "WindDir9am       0.041814\n",
              "WindDir3pm      -0.063602\n",
              "WindSpeed9am     0.770312\n",
              "WindSpeed3pm     0.669827\n",
              "Humidity9am     -0.489222\n",
              "Humidity3pm      0.041912\n",
              "Pressure9am     -0.085952\n",
              "Pressure3pm     -0.049243\n",
              "Cloud9am        -0.375077\n",
              "Cloud3pm        -0.239389\n",
              "Temp9am          0.085872\n",
              "Temp3pm          0.223974\n",
              "RainToday        1.327992\n",
              "dtype: float64"
            ]
          },
          "metadata": {
            "tags": []
          },
          "execution_count": 23
        }
      ]
    },
    {
      "cell_type": "markdown",
      "metadata": {
        "id": "hqqhMoMfiIe4"
      },
      "source": [
        "* Kolom 'Rainfall' masih memiliki skewness tinggi, sehingga perlu di handle"
      ]
    },
    {
      "cell_type": "code",
      "metadata": {
        "colab": {
          "base_uri": "https://localhost:8080/",
          "height": 283
        },
        "id": "uo7c5PG9a4Aq",
        "outputId": "5c1f7391-a6e6-4b04-ac0f-67dcb4b16943"
      },
      "source": [
        "# Visualisasi boxplot kolom 'Rainfall'\n",
        "sn.boxplot(data = df_feature['Rainfall'])"
      ],
      "execution_count": 24,
      "outputs": [
        {
          "output_type": "execute_result",
          "data": {
            "text/plain": [
              "<matplotlib.axes._subplots.AxesSubplot at 0x7fea10ccaa50>"
            ]
          },
          "metadata": {
            "tags": []
          },
          "execution_count": 24
        },
        {
          "output_type": "display_data",
          "data": {
            "image/png": "[encoded data removed]",
            "text/plain": [
              "<Figure size 432x288 with 1 Axes>"
            ]
          },
          "metadata": {
            "tags": [],
            "needs_background": "light"
          }
        }
      ]
    },
    {
      "cell_type": "code",
      "metadata": {
        "colab": {
          "base_uri": "https://localhost:8080/",
          "height": 336
        },
        "id": "G9OL1Z3DbfDf",
        "outputId": "939b182f-2861-4d50-ae35-9535410dfca3"
      },
      "source": [
        "plt.hist(df_feature['Rainfall'])"
      ],
      "execution_count": 25,
      "outputs": [
        {
          "output_type": "execute_result",
          "data": {
            "text/plain": [
              "(array([1.39356e+05, 1.09300e+03, 2.34000e+02, 5.90000e+01, 2.90000e+01,\n",
              "        8.00000e+00, 4.00000e+00, 2.00000e+00, 0.00000e+00, 2.00000e+00]),\n",
              " array([0. , 0.1, 0.2, 0.3, 0.4, 0.5, 0.6, 0.7, 0.8, 0.9, 1. ]),\n",
              " <a list of 10 Patch objects>)"
            ]
          },
          "metadata": {
            "tags": []
          },
          "execution_count": 25
        },
        {
          "output_type": "display_data",
          "data": {
            "image/png": "[encoded data removed]",
            "text/plain": [
              "<Figure size 432x288 with 1 Axes>"
            ]
          },
          "metadata": {
            "tags": [],
            "needs_background": "light"
          }
        }
      ]
    },
    {
      "cell_type": "code",
      "metadata": {
        "colab": {
          "base_uri": "https://localhost:8080/"
        },
        "id": "KPc0mPkAohTJ",
        "outputId": "2cc3895d-1f58-44df-e271-b6b796549d84"
      },
      "source": [
        "df_feature['Rainfall'] = np.where(df_feature['Rainfall'] <df_feature['Rainfall'].quantile(0.10), df_feature['Rainfall'].quantile(0.10),df_feature['Rainfall'])\n",
        "df_feature['Rainfall'] = np.where(df_feature['Rainfall'] >df_feature['Rainfall'].quantile(0.90), df_feature['Rainfall'].quantile(0.90),df_feature['Rainfall'])\n",
        "print(df_feature['Rainfall'].skew())"
      ],
      "execution_count": 26,
      "outputs": [
        {
          "output_type": "stream",
          "text": [
            "1.8213705015214394\n"
          ],
          "name": "stdout"
        }
      ]
    },
    {
      "cell_type": "code",
      "metadata": {
        "colab": {
          "base_uri": "https://localhost:8080/",
          "height": 372
        },
        "id": "cLMyHjPZpFgS",
        "outputId": "4f8bca1a-3bac-4ba6-a151-4bb18c96a7ed"
      },
      "source": [
        "plt.hist(df_feature['Rainfall'])"
      ],
      "execution_count": 27,
      "outputs": [
        {
          "output_type": "execute_result",
          "data": {
            "text/plain": [
              "(array([102967.,   6373.,   4098.,   3110.,   2403.,   1987.,   1700.,\n",
              "          1413.,   1265.,  15471.]),\n",
              " array([0.        , 0.00161725, 0.0032345 , 0.00485175, 0.006469  ,\n",
              "        0.00808625, 0.0097035 , 0.01132075, 0.01293801, 0.01455526,\n",
              "        0.01617251]),\n",
              " <a list of 10 Patch objects>)"
            ]
          },
          "metadata": {
            "tags": []
          },
          "execution_count": 27
        },
        {
          "output_type": "display_data",
          "data": {
            "image/png": "[encoded data removed]",
            "text/plain": [
              "<Figure size 432x288 with 1 Axes>"
            ]
          },
          "metadata": {
            "tags": [],
            "needs_background": "light"
          }
        }
      ]
    },
    {
      "cell_type": "markdown",
      "metadata": {
        "id": "-iOnRIwipNyI"
      },
      "source": [
        "* Handling outlier dan skewed data selesai"
      ]
    },
    {
      "cell_type": "markdown",
      "metadata": {
        "id": "ZR76xIcpplt-"
      },
      "source": [
        "#Imbalanced Classifier\n",
        "Label memiliki jumlah nilai yang tidak seimbang. Hal ini dapat mempengaruhi tingkat efisiensi model."
      ]
    },
    {
      "cell_type": "code",
      "metadata": {
        "colab": {
          "base_uri": "https://localhost:8080/",
          "height": 297
        },
        "id": "CzKnb0tqpu-5",
        "outputId": "01874bd6-182e-4357-a20e-c0da1c508b78"
      },
      "source": [
        "sn.countplot(x = df_label)"
      ],
      "execution_count": 28,
      "outputs": [
        {
          "output_type": "execute_result",
          "data": {
            "text/plain": [
              "<matplotlib.axes._subplots.AxesSubplot at 0x7fea10669110>"
            ]
          },
          "metadata": {
            "tags": []
          },
          "execution_count": 28
        },
        {
          "output_type": "display_data",
          "data": {
            "image/png": "[encoded data removed]",
            "text/plain": [
              "<Figure size 432x288 with 1 Axes>"
            ]
          },
          "metadata": {
            "tags": [],
            "needs_background": "light"
          }
        }
      ]
    },
    {
      "cell_type": "markdown",
      "metadata": {
        "id": "Ens-iEWop4KD"
      },
      "source": [
        "* Menggunakan metode SMOTE untuk mengimbangi label. Metode ini menambah data minoritas dengan metode over sampling, sehingga pesebaran data menjadi rata"
      ]
    },
    {
      "cell_type": "code",
      "metadata": {
        "colab": {
          "base_uri": "https://localhost:8080/"
        },
        "id": "hHVTZUoWtXVe",
        "outputId": "b7d324a6-3bc4-49c1-ce4a-c4b71d3628a5"
      },
      "source": [
        "from imblearn import over_sampling\n",
        "\n",
        "X = df_feature\n",
        "y = df_label\n",
        "\n",
        "X_over_smote, y_over_smote = over_sampling.SMOTE().fit_resample(X, y)\n",
        "y_over_smote = y_over_smote.reshape(-1,1)"
      ],
      "execution_count": 29,
      "outputs": [
        {
          "output_type": "stream",
          "text": [
            "/usr/local/lib/python3.7/dist-packages/sklearn/externals/six.py:31: FutureWarning: The module is deprecated in version 0.21 and will be removed in version 0.23 since we've dropped support for Python 2.7. Please rely on the official version of six (https://pypi.org/project/six/).\n",
            "  \"(https://pypi.org/project/six/).\", FutureWarning)\n",
            "/usr/local/lib/python3.7/dist-packages/sklearn/utils/deprecation.py:144: FutureWarning: The sklearn.neighbors.base module is  deprecated in version 0.22 and will be removed in version 0.24. The corresponding classes / functions should instead be imported from sklearn.neighbors. Anything that cannot be imported from sklearn.neighbors is now part of the private API.\n",
            "  warnings.warn(message, FutureWarning)\n",
            "/usr/local/lib/python3.7/dist-packages/sklearn/utils/deprecation.py:87: FutureWarning: Function safe_indexing is deprecated; safe_indexing is deprecated in version 0.22 and will be removed in version 0.24.\n",
            "  warnings.warn(msg, category=FutureWarning)\n"
          ],
          "name": "stderr"
        }
      ]
    },
    {
      "cell_type": "code",
      "metadata": {
        "id": "eGw3nrqQp9fi"
      },
      "source": [
        "df = pd.DataFrame(X_over_smote,columns=X.columns)\n",
        "df[\"RainTomorrow\"] = y_over_smote"
      ],
      "execution_count": 30,
      "outputs": []
    },
    {
      "cell_type": "code",
      "metadata": {
        "colab": {
          "base_uri": "https://localhost:8080/",
          "height": 297
        },
        "id": "v3LqaUwtt9rA",
        "outputId": "dba9d223-09fb-4764-9d4e-f6fc184a0256"
      },
      "source": [
        "sn.countplot(x = df[\"RainTomorrow\"])"
      ],
      "execution_count": 31,
      "outputs": [
        {
          "output_type": "execute_result",
          "data": {
            "text/plain": [
              "<matplotlib.axes._subplots.AxesSubplot at 0x7fea0dba9390>"
            ]
          },
          "metadata": {
            "tags": []
          },
          "execution_count": 31
        },
        {
          "output_type": "display_data",
          "data": {
            "image/png": "[encoded data removed]",
            "text/plain": [
              "<Figure size 432x288 with 1 Axes>"
            ]
          },
          "metadata": {
            "tags": [],
            "needs_background": "light"
          }
        }
      ]
    },
    {
      "cell_type": "markdown",
      "metadata": {
        "id": "A_L7V0hoie4Y"
      },
      "source": [
        "#Save Clean Dataset\n",
        "Dataframe yang sudah bersih disimpan kedalam bentuk .csv"
      ]
    },
    {
      "cell_type": "code",
      "metadata": {
        "id": "uWIUJ1BihLBU"
      },
      "source": [
        "df.to_csv('weatherAUS_clean.csv')"
      ],
      "execution_count": 32,
      "outputs": []
    },
    {
      "cell_type": "markdown",
      "metadata": {
        "id": "X0UqXMPEu6qB"
      },
      "source": [
        "#Pemodelan Data\n"
      ]
    },
    {
      "cell_type": "markdown",
      "metadata": {
        "id": "2qHyU0yovAwm"
      },
      "source": [
        "###Split Dataset\n",
        "Dataset dipisah untuk training dan testing"
      ]
    },
    {
      "cell_type": "code",
      "metadata": {
        "id": "uuH_F4X9u_12"
      },
      "source": [
        "from sklearn.model_selection import train_test_split \n",
        "y = df[\"RainTomorrow\"] # y merupakan label\n",
        "X = df.drop(\"RainTomorrow\", axis=1) # X merupakan feature-feature data (tidak termasuk label)\n",
        "\n",
        "# Memisah dataset menjadi 60% data train dan 40% data test\n",
        "X_train, X_test, y_train, y_test = train_test_split(X, y, test_size = 0.4)"
      ],
      "execution_count": 33,
      "outputs": []
    },
    {
      "cell_type": "markdown",
      "metadata": {
        "id": "XbDDXeHZv71e"
      },
      "source": [
        "###TPOT\n",
        "TPOT adalah library autoML yang menerapkan algoritma genetika. TPOT digunakan karena mampu menemukan algoritma naive ML yang ampuh dalam melakukan prediksi atau klasifikasi. Arsitektur dari TPOT dapat dilihat pada ilustrasi berikut."
      ]
    },
    {
      "cell_type": "markdown",
      "metadata": {
        "id": "S2R_5yqq6E5u"
      },
      "source": [
        "![image.png](data:image/png;base64,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)"
      ]
    },
    {
      "cell_type": "code",
      "metadata": {
        "id": "68NoSy_P1N0l"
      },
      "source": [
        "!pip install TPOT"
      ],
      "execution_count": null,
      "outputs": []
    },
    {
      "cell_type": "code",
      "metadata": {
        "colab": {
          "base_uri": "https://localhost:8080/"
        },
        "id": "IjggzJacvZ5p",
        "outputId": "174a279b-9fe9-4d58-e0f6-77c88000b3cb"
      },
      "source": [
        "from tpot import TPOTClassifier, TPOTRegressor\n",
        "\n",
        "# Generasi berjumlah 3 dan ukuran populasi berjumlah 10. Jumlah ini dikarenakan keterbatasan hardware yang tersedia\n",
        "tpot = TPOTClassifier(generations=3, population_size=10)\n",
        "tpot.fit(X_train, y_train)"
      ],
      "execution_count": 35,
      "outputs": [
        {
          "output_type": "execute_result",
          "data": {
            "text/plain": [
              "TPOTClassifier(config_dict=None, crossover_rate=0.1, cv=5,\n",
              "               disable_update_check=False, early_stop=None, generations=3,\n",
              "               log_file=None, max_eval_time_mins=5, max_time_mins=None,\n",
              "               memory=None, mutation_rate=0.9, n_jobs=1, offspring_size=None,\n",
              "               periodic_checkpoint_folder=None, population_size=10,\n",
              "               random_state=None, scoring=None, subsample=1.0, template=None,\n",
              "               use_dask=False, verbosity=0, warm_start=False)"
            ]
          },
          "metadata": {
            "tags": []
          },
          "execution_count": 35
        }
      ]
    },
    {
      "cell_type": "code",
      "metadata": {
        "colab": {
          "base_uri": "https://localhost:8080/"
        },
        "id": "qNyeDyrS1BFE",
        "outputId": "81053e0f-d397-4752-dad3-c05ef6e6d23f"
      },
      "source": [
        "print(\"Accuracy is {}%\".format(round(tpot.score(X_test, y_test), 2)*100))"
      ],
      "execution_count": 36,
      "outputs": [
        {
          "output_type": "stream",
          "text": [
            "Accuracy is 90.0%\n"
          ],
          "name": "stdout"
        }
      ]
    },
    {
      "cell_type": "code",
      "metadata": {
        "id": "3VeW2VQ_QbtI",
        "colab": {
          "base_uri": "https://localhost:8080/"
        },
        "outputId": "6ffca4bb-77a0-458c-c5c5-667e4f7c7fa9"
      },
      "source": [
        "tpot.export('weather_aus_tpot.py')\n",
        "!cat weather_aus_tpot.py"
      ],
      "execution_count": 37,
      "outputs": [
        {
          "output_type": "stream",
          "text": [
            "import numpy as np\n",
            "import pandas as pd\n",
            "from sklearn.model_selection import train_test_split\n",
            "from xgboost import XGBClassifier\n",
            "\n",
            "# NOTE: Make sure that the outcome column is labeled 'target' in the data file\n",
            "tpot_data = pd.read_csv('PATH/TO/DATA/FILE', sep='COLUMN_SEPARATOR', dtype=np.float64)\n",
            "features = tpot_data.drop('target', axis=1)\n",
            "training_features, testing_features, training_target, testing_target = \\\n",
            "            train_test_split(features, tpot_data['target'], random_state=None)\n",
            "\n",
            "# Average CV score on the training set was: 0.8962989514631937\n",
            "exported_pipeline = XGBClassifier(learning_rate=1.0, max_depth=4, min_child_weight=17, n_estimators=100, n_jobs=1, subsample=0.8500000000000001, verbosity=0)\n",
            "\n",
            "exported_pipeline.fit(training_features, training_target)\n",
            "results = exported_pipeline.predict(testing_features)\n"
          ],
          "name": "stdout"
        }
      ]
    },
    {
      "cell_type": "markdown",
      "metadata": {
        "id": "YK3WnkRxIQvd"
      },
      "source": [
        "#Kesimpulan\n",
        "TPOT mampu memberikan hasil yang sangat baik dalam klasifikasi data dengan jumlah besar. Namun daya komputasi dari TPOT sangat besar sehingga memerlukan waktu yang sangat lama. "
      ]
    }
  ]
}